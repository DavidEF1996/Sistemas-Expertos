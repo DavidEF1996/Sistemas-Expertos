{
 "cells": [
  {
   "cell_type": "markdown",
   "metadata": {},
   "source": [
    "# SISTEMAS EXPERTOS\n",
    "\n",
    "### Autor: David Egas \n",
    "\n",
    "## Definicion general de Sistema Experto\n",
    "\n",
    "Son softwares que emulan el comportamiento de un experto humano en la solución de un problema, almacenan conocimientos concretos para usarlos en la solución de un problema mediante deducción lógica.\n"
   ]
  },
  {
   "cell_type": "markdown",
   "metadata": {},
   "source": [
    "## Ejemplos de Sistemas Expertos\n",
    "\n",
    "### CADUCEUS\n",
    "\n",
    "Es un sistema experto enfocado al campo de la medicina, su desarrollo empezó en los años 70, fue desarrollado por Harry E. Pople Jr., informático, y Jack D. Myers, médico especialista de medicina interna. Sus primeras demostraciones fueron en 1974 y desde entonces se ha utilizado para el análisis de cientos de problemas clínicos difíciles con notable éxito. \n",
    "\n",
    "CADUCEUS, dentro de lo tradicional en IA, consiste en desarrollar programas que modelen con precisión la forma en que las personas procesan realmente la información, modelar la forma en que los clínicos razonan sobre el diagnóstico. Este sistema tenía que tomar en cuenta posibles combinaciones e interacciones entre varias enfermedades.\n",
    "\n",
    "Una estimación conservadora del número de combinaciones posibles sería de 10^40, un numero excesivamente grande como para tener una Base de Datos con las descripciones, por ende, se optó por un Sistema Experto, desarrollando modelos de las distintas enfermedades y haciendo que estos modelos interactúen.\n",
    "\n",
    "#### Funcionamiento:\n",
    "\n",
    "1. Usuario describe manifestaciones de la enfermedad\n",
    "2. Toma dos caminos, uno donde conceptualiza todo como un conjunto de manifestaciones o síntomas que llevan a una enfermedad, u otro donde conceptualiza el mundo por medio de una jerarquía llamada nosología, que describe la enfermedad según la parte del cuerpo afectada.\n",
    "3. Se diagnostica y luego el programa elimina de su razonamiento los datos que explican este diagnóstico y se puntúa.\n",
    "\n",
    "CADUCEUS funciona con una base de datos que actualmente incluye unas 500 enfermedades (25% de la medicina interna), funciona con enfoques ascendente (<<\"bottom-up\">>) y descendente (<<\"top-down\">>). Al examinar al paciente empieza por abajo y va ascendiendo. Cuando obtiene una visión general de las enfermedades probablemente responsables de cierto conjunto de manifestaciones sigue un enfoque descendente.\n",
    "\n",
    "\n",
    "\n",
    "\n"
   ]
  },
  {
   "cell_type": "markdown",
   "metadata": {},
   "source": [
    "## PUFF\n",
    "\n",
    "Se construyo en 1979, utilizando EMYCIN (tabla para tratar infecciones bacterianas), con el objetivo de demostrar la utilidad de esta herramienta para el desarrollo rápido de prototipos de sistemas.\n",
    "\n",
    "Diseñado para la interpretación de medidas de pruebas respiratorias aplicadas a pacientes en un laboratorio de función pulmonar. Mide el volumen de los pulmones, capacidad de estos para llevar oxígeno a la sangre y extraer dióxido de carbono, etc.\n",
    "\n",
    "### Funcionamiento: \n",
    "\n",
    "1. El sistema se comunica directamente con los instrumentos del laboratorio.\n",
    "2. Utiliza sus salidas como fuentes de información para el análisis.\n",
    "3. Se da el diagnostico.\n",
    "\n",
    "Se desarrollo en un DEC KL-10 en el servicio de informática SUMEX-AIM de la Universidad de Stanford.\n",
    "\n",
    "\n"
   ]
  },
  {
   "cell_type": "markdown",
   "metadata": {},
   "source": [
    "## PROSPECTOR\n",
    "\n",
    "Tiene un pie en el mundo de la investigación y otro en el de las aplicaciones comerciales. Desarrollado al final de los años 70 un equipo de Stanford Research Institute, con informáticos como Peter Hart, Richard Duda, R. Reboh, entre otros. \n",
    "\n",
    "Este sistema está diseñado para consulta de geólogos en las primeras etapas de investigación de un terreno en busca de yacimientos minerales. Los datos son principalmente observaciones geológicas superficiales y se supone que pueden ser inciertos e incompletos. El programa da a los usuarios posibles interpretaciones e identifica que observaciones adicionales podrían ser útiles para alcanzar una conclusión más segura.\n",
    "\n",
    "\n",
    "### Funcionamiento:\n",
    "\n",
    "1. Usuario inserta datos\n",
    "2. PROSPECTOR inserta en sus modelos y decide cuál de ellos aplica mejor tales datos,\n",
    "3. La confirmación de ese modelo se convierte entonces en el objetivo principal del sistema y orienta sus preguntas\n",
    "4. Si las respuestas alteran las probabilidades, el sistema puede buscar otro modelo\n",
    "5. Se ilustran las ideas\n",
    "\n",
    "\n",
    "En 1980, y como prueba, se le dieron a PROSPECTOS informaciones geológicas geofísicas y geoquímicas proporcionadas por un grupo que exploro en el Monte Tolman en Washington. PROSPECTOR a partir de estos datos sugirió que una parte inexplorada del lugar podría contener un yacimiento de molibdeno pórfido. Una nueva exploración lo confirmo, obteniendo así el título de primer sistema con un éxito comercial importante.\n",
    "\n",
    "\n"
   ]
  },
  {
   "cell_type": "markdown",
   "metadata": {},
   "source": [
    "## Conclusiones\n",
    "\n",
    "Técnicamente un sistema experto, contiene una base de conocimientos que incluye la experienciaacumulada de expertos humanos y un conjunto de reglas para aplicar ésta base de conocimientosen una situación particular que se le indica al programa. Cada vez el sistema se mejora conadiciones a la base de conocimientos o al conjunto de reglas.\n",
    "\n",
    "## Referencias\n",
    "\n",
    "[1] . https://books.google.com.ec/books?id=QZ3C7-y6LxAC&pg=PA191&lpg=PA191&dq=caduceus+sistema+experto&source=bl&ots=CQ4hyL1g3e&sig=ACfU3U2HR3BfXSt4WfQvJPSDbgWec7GSXA&hl=es-419&sa=X&ved=2ahUKEwjS7MDgmtnoAhXQmOAKHeBVBy0Q6AEwA3oECAwQKw#v=onepage&q=caduceus%20sistema%20experto&f=false\n",
    "\n",
    "[2]. https://sites.google.com/site/proyectointeligenciaartificial/indice/los-sistemas-expertos\n"
   ]
  },
  {
   "cell_type": "code",
   "execution_count": null,
   "metadata": {},
   "outputs": [],
   "source": []
  }
 ],
 "metadata": {
  "kernelspec": {
   "display_name": "Python 3",
   "language": "python",
   "name": "python3"
  },
  "language_info": {
   "codemirror_mode": {
    "name": "ipython",
    "version": 3
   },
   "file_extension": ".py",
   "mimetype": "text/x-python",
   "name": "python",
   "nbconvert_exporter": "python",
   "pygments_lexer": "ipython3",
   "version": "3.7.6"
  }
 },
 "nbformat": 4,
 "nbformat_minor": 4
}
